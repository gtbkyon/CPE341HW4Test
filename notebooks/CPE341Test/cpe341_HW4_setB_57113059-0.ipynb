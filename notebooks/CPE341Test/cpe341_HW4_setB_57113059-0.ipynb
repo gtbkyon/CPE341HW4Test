{
 "cells": [
  {
   "cell_type": "markdown",
   "metadata": {},
   "source": [
    "# CPE-341, Quiz 2/2015 \n",
    "# Question Set B\n",
    "\n",
    "- Iteration Design Pattern : List, Dictionary\n",
    "- Using Class Coin in a List"
   ]
  },
  {
   "cell_type": "code",
   "execution_count": 1,
   "metadata": {
    "collapsed": false
   },
   "outputs": [
    {
     "data": {
      "text/html": [
       "<style>\n",
       "@import url('http://fonts.googleapis.com/css?family=Crimson+Text');\n",
       "@import url('http://fonts.googleapis.com/css?family=Kameron');\n",
       "@import url('http://fonts.googleapis.com/css?family=Lato:200,300,400');\n",
       "@import url('http://fonts.googleapis.com/css?family=Source+Code+Pro');\n",
       "@import url(https://fonts.googleapis.com/css?family=Droid+Sans);\n",
       "\n",
       ".rendered_html {\n",
       "    font-family: \"Droid Sans\", helvetica;\n",
       "    font-size: 110%;\n",
       "    line-height: 1.3;\n",
       "}\n",
       "\n",
       ".rendered_html h1 {\n",
       "    margin: 0.25em 0em 0.5em;\n",
       "    color: #015C9C;\n",
       "    text-align: center;\n",
       "    line-height: 1.2; \n",
       "    page-break-before: always;\n",
       "}\n",
       "\n",
       ".rendered_html h2 {\n",
       "    margin: 1.1em 0em 0.5em;\n",
       "    color: #26465D;\n",
       "    line-height: 1.2;\n",
       "}\n",
       "\n",
       ".rendered_html h3 {\n",
       "    margin: 1.1em 0em 0.5em;\n",
       "    color: #002845;\n",
       "    line-height: 1.2;\n",
       "}\n",
       "\n",
       ".rendered_html li {\n",
       "    line-height: 1.5; \n",
       "}\n",
       "\n",
       "/*.prompt {\n",
       "    font-size: 120%; \n",
       "}*/\n",
       "\n",
       ".CodeMirror-lines {\n",
       "\tfont-family: 'Source Code Pro', Consolas, monocco, monospace; /* Kittima added*/\n",
       "    font-size: 110%; \n",
       "}\n",
       "\n",
       "/*.output_area {\n",
       "    font-size: 120%; \n",
       "}*/\n",
       "\n",
       "/*#notebook {\n",
       "    background-image: url('files/images/witewall_3.png');\n",
       "}*/\n",
       "\n",
       "h1.bigtitle {\n",
       "    margin: 4cm 1cm 4cm 1cm;\n",
       "    font-size: 300%;\n",
       "}\n",
       "\n",
       "h3.point {\n",
       "    font-size: 200%;\n",
       "    text-align: center;\n",
       "    margin: 2em 0em 2em 0em;\n",
       "    #26465D\n",
       "}\n",
       "\n",
       ".logo {\n",
       "    margin: 20px 0 20px 0;\n",
       "}\n",
       "\n",
       "a.anchor-link {\n",
       "    display: none;\n",
       "}\n",
       "\n",
       "h1.title { \n",
       "    font-size: 250%;\n",
       "}\n",
       "\n",
       "\n",
       "/* Kittima added */\n",
       "div.text_cell_render h1,  \n",
       "div.text_cell_render h2,  \n",
       "div.text_cell_render h3,  \n",
       "div.text_cell_render h4,  \n",
       "div.text_cell_render h5,  \n",
       "div.text_cell_render h6 {  \n",
       "    font-family: 'Droid Sans';\n",
       "}\n",
       "\n",
       "div.text_cell {  \n",
       "    max-width: 105ex; /* instead of 100%, */\n",
       "}\n",
       "\n",
       "code {\n",
       "\t/* background-color : #fffffa !important;  */\n",
       "\tbackground-color : #f5f5f5 !important;\n",
       "}\n",
       "</style>"
      ],
      "text/plain": [
       "<IPython.core.display.HTML object>"
      ]
     },
     "metadata": {},
     "output_type": "display_data"
    }
   ],
   "source": [
    "%reload_ext load_style\n",
    "%load_style talk.css"
   ]
  },
  {
   "cell_type": "code",
   "execution_count": 1,
   "metadata": {
    "collapsed": false
   },
   "outputs": [
    {
     "data": {
      "text/plain": [
       "'2017-02-10T02:35:39.503629'"
      ]
     },
     "execution_count": 1,
     "metadata": {},
     "output_type": "execute_result"
    }
   ],
   "source": [
    "## รหัสประจำตัวนักศึกษา : 57113059-0\n",
    "## ชื่อนักศึกษา : ธนพล อ่อนเอื้อน\n",
    "##\n",
    "## คลิก Run cell นี้เพียงครั้งเดียว\n",
    "##\n",
    "##\n",
    "import datetime\n",
    "datetime.datetime.now().isoformat()"
   ]
  },
  {
   "cell_type": "markdown",
   "metadata": {},
   "source": [
    "## Question 1 ( @2 pt x 2 = 4 pts )\n",
    "\n",
    "### Q1.a \n",
    "จงเขียนคำสั่ง เพื่อพิมพ์ค่าตัวเลขที่ index ที่ 4 จาก list `mycoins` ต่อไปนี้ "
   ]
  },
  {
   "cell_type": "code",
   "execution_count": 6,
   "metadata": {
    "collapsed": true
   },
   "outputs": [],
   "source": [
    "## ไม่แก้ไขข้อมูลใน cell นี้\n",
    "\n",
    "mycoins = [12, 4, 10, 1, 6, 8]"
   ]
  },
  {
   "cell_type": "code",
   "execution_count": 13,
   "metadata": {
    "collapsed": false
   },
   "outputs": [
    {
     "name": "stdout",
     "output_type": "stream",
     "text": [
      "6\n"
     ]
    }
   ],
   "source": [
    "## ANSWER Q1.a\n",
    "##\n",
    "##\n",
    "print(mycoins[4])"
   ]
  },
  {
   "cell_type": "markdown",
   "metadata": {},
   "source": [
    "### Q1.b \n",
    "จงเขียนคำสั่ง เพื่อพิมพ์ตัวเลขที่มีค่ามากกว่า 5 จาก **list** ในข้อ (1.a)"
   ]
  },
  {
   "cell_type": "code",
   "execution_count": 38,
   "metadata": {
    "collapsed": false
   },
   "outputs": [],
   "source": [
    "## ANSWER Q1.b\n",
    "## \n",
    "##\n"
   ]
  },
  {
   "cell_type": "code",
   "execution_count": 37,
   "metadata": {
    "collapsed": false
   },
   "outputs": [
    {
     "name": "stdout",
     "output_type": "stream",
     "text": [
      "12\n",
      "10\n",
      "6\n",
      "8\n"
     ]
    }
   ],
   "source": [
    "for n in range (0,6):\n",
    "    if (mycoins[n]>5):\n",
    "        print(mycoins[n])"
   ]
  },
  {
   "cell_type": "markdown",
   "metadata": {},
   "source": [
    "## Question 2 ( @3 pts x 4 = 12 pts )\n",
    "\n",
    "### Q2.a \n",
    "จงสร้าง **list** เพื่อเก็บข้อมูลตัวเลขคู่ 100 - 200  โดยใข้ `range`"
   ]
  },
  {
   "cell_type": "code",
   "execution_count": 39,
   "metadata": {
    "collapsed": false
   },
   "outputs": [],
   "source": [
    "## ANSWER Q2.a\n",
    "##\n",
    "##\n"
   ]
  },
  {
   "cell_type": "code",
   "execution_count": 56,
   "metadata": {
    "collapsed": false
   },
   "outputs": [],
   "source": [
    "listnum = []\n",
    "for n in range (100,200):\n",
    "    if((n%2)==0):\n",
    "        listnum.append(n)\n",
    "     "
   ]
  },
  {
   "cell_type": "markdown",
   "metadata": {},
   "source": [
    "### Q2.b \n",
    "จงสร้าง **list** เพื่อเก็บ**ตัวเลขสุ่ม** ในช่วง 19-99 จำนวน 8 ตัวเลข โดยใข้ฟังก์ชั่น `randint` จากไลบรารี `random`"
   ]
  },
  {
   "cell_type": "code",
   "execution_count": 63,
   "metadata": {
    "collapsed": false
   },
   "outputs": [],
   "source": [
    "## ANSWER Q2.b\n",
    "##\n",
    "##\n",
    "from random import randint\n",
    "\n",
    "randnum = []\n",
    "for n in range (0,8):\n",
    "    i = randint(19,99)\n",
    "    randnum.append(i)"
   ]
  },
  {
   "cell_type": "markdown",
   "metadata": {},
   "source": [
    "### Q2.c \n",
    "จงเขียน `def` ชื่อ `sum_of_square` สำหรับหาผลรวมของเลขกำลังสองของตัวเลขใน **list** ที่เป็น argument  \n",
    "\n",
    "เช่น เมื่อเรียกใช้ `sum_of_square([1,2,3,4,5,6,7,8])` จะได้ผลลัพธ์เป็น $1^2  + 2^2 + 3^2 +  ...  + 6^2 + 7^2 + 8^2 $ = 204.0 "
   ]
  },
  {
   "cell_type": "code",
   "execution_count": 72,
   "metadata": {
    "collapsed": false
   },
   "outputs": [],
   "source": [
    "## ANSWER Q2.c\n",
    "##\n",
    "##\n",
    "\n",
    "def sum_of_square(number_list):\n",
    "    squared = 0\n",
    "    for i in (number_list):\n",
    "        squared += i*i\n",
    "    \n",
    "    return squared    \n",
    "    pass\n",
    "\n"
   ]
  },
  {
   "cell_type": "code",
   "execution_count": 74,
   "metadata": {
    "collapsed": false,
    "scrolled": true
   },
   "outputs": [
    {
     "data": {
      "text/plain": [
       "204"
      ]
     },
     "execution_count": 74,
     "metadata": {},
     "output_type": "execute_result"
    }
   ],
   "source": [
    "sum_of_square([1,2,3,4,5,6,7,8]) "
   ]
  },
  {
   "cell_type": "markdown",
   "metadata": {},
   "source": [
    "### Q2.d\n",
    "จงหาค่าเฉลี่ย ของตัวเลขใน list ต่อไปนี้ แล้วเก็บไว้ที่ตัวแปรชื่อ avg โดยใข้ฟังก์ชั่น sum, len\n",
    "\n",
    "`myTest = [200, 275, 278, 242, 235, 383]`"
   ]
  },
  {
   "cell_type": "code",
   "execution_count": 80,
   "metadata": {
    "collapsed": false
   },
   "outputs": [],
   "source": [
    "## ANSWER Q2.d\n",
    "##\n",
    "##\n",
    "myTest = [200, 275, 278, 242, 235, 383]\n",
    "avg = sum(myTest)/len(myTest)\n"
   ]
  },
  {
   "cell_type": "code",
   "execution_count": 81,
   "metadata": {
    "collapsed": false
   },
   "outputs": [
    {
     "name": "stdout",
     "output_type": "stream",
     "text": [
      "268.8333333333333\n"
     ]
    }
   ],
   "source": [
    "print(avg)"
   ]
  },
  {
   "cell_type": "markdown",
   "metadata": {},
   "source": [
    "## Question 3 ( @6 pts x 2 = 12 pts )\n",
    "\n",
    "### Q3.a \n",
    "กำหนดให้ **dict**  `๋JP_COINS` เก็บค่าเงินของเหรียญญี่ปุ่น (เงินเยน ¥) 6 ชนิด (ใช้ใน Q3.b)\n",
    "\n",
    "จงหาจำนวนเหรียญใน list `piggy` ซึ่งเป็นกระปุกเงินเก็บเหรียญ โดยผลลัพธ์เก็บค่าไว้ที่ตัวแปร `count` "
   ]
  },
  {
   "cell_type": "code",
   "execution_count": 16,
   "metadata": {
    "collapsed": false
   },
   "outputs": [],
   "source": [
    "## ไม่แก้ไขข้อมูลใน cell นี้\n",
    "\n",
    "JP_COINS = { \"1Y\": 1, \"5Y\": 5, \"10Y\": 10, \"50Y\": 50, \"100Y\": 100, \"500Y\": 500 }\n",
    "\n",
    "## piggy keeps the number of Japanese ¥ coins \n",
    "piggy = { \"500Y\":2, \"1Y\":8, \"100Y\":2, \"10Y\":24, \"50Y\":3 }\n"
   ]
  },
  {
   "cell_type": "code",
   "execution_count": 25,
   "metadata": {
    "collapsed": false
   },
   "outputs": [
    {
     "name": "stdout",
     "output_type": "stream",
     "text": [
      "All coins haved :  39  Coins\n"
     ]
    }
   ],
   "source": [
    "## ANSWER Q3.a\n",
    "## หาจำนวนเหรียญใน piggy \n",
    "##\n",
    "count=0\n",
    "for coin,value in piggy.items():\n",
    "    count = count+value\n",
    "print(\"All coins haved : \",count,\" Coins\")\n",
    "\n",
    "\n"
   ]
  },
  {
   "cell_type": "markdown",
   "metadata": {
    "collapsed": true
   },
   "source": [
    "### Q3.b\n",
    "จงหามูลค่าของเงินทั้งหมดใน list `piggy` (หน่วย: เยน)"
   ]
  },
  {
   "cell_type": "code",
   "execution_count": 12,
   "metadata": {
    "collapsed": false
   },
   "outputs": [],
   "source": [
    "## ANSWER Q3.b\n",
    "##\n",
    "##\n"
   ]
  },
  {
   "cell_type": "code",
   "execution_count": 33,
   "metadata": {
    "collapsed": false
   },
   "outputs": [
    {
     "name": "stdout",
     "output_type": "stream",
     "text": [
      "1598\n"
     ]
    }
   ],
   "source": [
    "allvalue = 0\n",
    "for k,v in piggy.items():\n",
    "    allvalue += JP_COINS[k]*piggy[k]\n",
    "print (allvalue)\n",
    "    "
   ]
  },
  {
   "cell_type": "markdown",
   "metadata": {},
   "source": [
    "## Question 4 ( @6 pts x 2 = 12 pts )\n",
    "\n",
    "### Q4.a \n",
    "จาก class `Coin` ที่กำหนดให้ จงสร้างเหรียญ เก็บไว้ใน list ชื่อ `my_coins` จำนวน 40 เหรียญของเงินเยน โดยใช้ฟังก์ชัน `randint` ของโมดูล `random` "
   ]
  },
  {
   "cell_type": "code",
   "execution_count": 34,
   "metadata": {
    "collapsed": true
   },
   "outputs": [],
   "source": [
    "## ไม่แก้ไขข้อมูลใน cell นี้\n",
    "\n",
    "class Coin(object):\n",
    "    \n",
    "    def __init__(self, value):\n",
    "        \"\"\" สร้างเหรียญ 1 เหรียญ ซึ่งเก็บค่าเงินไว้ด้วยตัวแปร __value \"\"\"\n",
    "        self.__value = value\n",
    "        \n",
    "    @property\n",
    "    def value(self):\n",
    "        \"\"\" return ค่าเงิน \"\"\"\n",
    "        return self.__value\n",
    "        \n",
    "    def __str__(self):\n",
    "        \"\"\" return ข้อความ str, พร้อมกับค่าเงิน \"\"\"\n",
    "        return ( \"Coin value: {}\".format(self.__value) )\n",
    "        "
   ]
  },
  {
   "cell_type": "code",
   "execution_count": 35,
   "metadata": {
    "collapsed": false
   },
   "outputs": [
    {
     "name": "stdout",
     "output_type": "stream",
     "text": [
      "Help on class Coin in module __main__:\n",
      "\n",
      "class Coin(builtins.object)\n",
      " |  Methods defined here:\n",
      " |  \n",
      " |  __init__(self, value)\n",
      " |      สร้างเหรียญ 1 เหรียญ ซึ่งเก็บค่าเงินไว้ด้วยตัวแปร __value\n",
      " |  \n",
      " |  __str__(self)\n",
      " |      return ข้อความ str, พร้อมกับค่าเงิน\n",
      " |  \n",
      " |  ----------------------------------------------------------------------\n",
      " |  Data descriptors defined here:\n",
      " |  \n",
      " |  __dict__\n",
      " |      dictionary for instance variables (if defined)\n",
      " |  \n",
      " |  __weakref__\n",
      " |      list of weak references to the object (if defined)\n",
      " |  \n",
      " |  value\n",
      " |      return ค่าเงิน\n",
      "\n"
     ]
    }
   ],
   "source": [
    "help(Coin)"
   ]
  },
  {
   "cell_type": "code",
   "execution_count": 36,
   "metadata": {
    "collapsed": false
   },
   "outputs": [
    {
     "data": {
      "text/plain": [
       "[<__main__.Coin at 0x7f5b9435e748>,\n",
       " <__main__.Coin at 0x7f5b9435e780>,\n",
       " <__main__.Coin at 0x7f5b9435e7f0>]"
      ]
     },
     "execution_count": 36,
     "metadata": {},
     "output_type": "execute_result"
    }
   ],
   "source": [
    "## ตัวอย่างการใช้ class Coin\n",
    "##\n",
    "c1 = Coin(1)    # เหรียญ 1 เยน\n",
    "c2 = Coin(50)   # เหรียญ 50 เยน\n",
    "c3 = Coin(100)  # เหรียญ 100 เยน\n",
    "\n",
    "mycoin_list = [c1,c2,c3]\n",
    "mycoin_list"
   ]
  },
  {
   "cell_type": "code",
   "execution_count": 37,
   "metadata": {
    "collapsed": false
   },
   "outputs": [
    {
     "data": {
      "text/plain": [
       "100"
      ]
     },
     "execution_count": 37,
     "metadata": {},
     "output_type": "execute_result"
    }
   ],
   "source": [
    "# ตัวอย่างการใช้ @property value ของ class Coin\n",
    "c3.value"
   ]
  },
  {
   "cell_type": "code",
   "execution_count": 113,
   "metadata": {
    "collapsed": false
   },
   "outputs": [
    {
     "name": "stdout",
     "output_type": "stream",
     "text": [
      "100\n",
      "10\n",
      "1\n",
      "5\n",
      "10\n",
      "100\n",
      "10\n",
      "100\n",
      "1\n",
      "100\n",
      "10\n",
      "500\n",
      "10\n",
      "100\n",
      "1\n",
      "5\n",
      "10\n",
      "10\n",
      "50\n",
      "1\n",
      "5\n",
      "50\n",
      "5\n",
      "10\n",
      "1\n",
      "100\n",
      "50\n",
      "100\n",
      "500\n",
      "1\n",
      "1\n",
      "500\n",
      "1\n",
      "500\n",
      "100\n",
      "100\n",
      "1\n",
      "100\n",
      "500\n"
     ]
    }
   ],
   "source": [
    "## ANSWER Q4.a\n",
    "##\n",
    "## สร้างเหรียญ เก็บไว้ใน list ชื่อ `my_coins` จำนวน 40 เหรียญเงินเยน \n",
    "## โดยใช้ฟังก์ชัน randint ของโมดูล random \n",
    "##\n",
    "\n",
    "from random import randint\n",
    "mycoins = [1, 5, 10, 50, 100, 500]  # the values of Japanese coins in a list\n",
    "\n",
    "my_coins = []\n",
    "##-------------  add code here\n",
    "\n",
    "for n in range (0,39):\n",
    "    my_coins = randint(0,len(mycoins)-1)\n",
    "    result = mycoins[my_coins]\n",
    "    print(result)\n",
    "\n",
    "\n",
    "# Test, printing the total Yen value of mycoins \n",
    "#print \n",
    "#sum( [c.value for c in mycoins] )"
   ]
  },
  {
   "cell_type": "code",
   "execution_count": null,
   "metadata": {
    "collapsed": true
   },
   "outputs": [],
   "source": []
  },
  {
   "cell_type": "markdown",
   "metadata": {},
   "source": [
    "### Q4.b \n",
    "จงปรับปรุุง def `printCoins` เพื่อพิมพ์จำนวนเหรียญ และมูลค่าเงินของเหรียญทั้งหมดที่เก็บไว้ใน list `coin_list` ซึ่งเป็น argument ของฟังก์ชัน `"
   ]
  },
  {
   "cell_type": "code",
   "execution_count": 135,
   "metadata": {
    "collapsed": false
   },
   "outputs": [
    {
     "name": "stdout",
     "output_type": "stream",
     "text": [
      "------- Coins --------\n",
      "Count :  6\n",
      "Value :  2108.00 Yens\n"
     ]
    }
   ],
   "source": [
    "## ANSWER Q4.b\n",
    "##\n",
    "##\n",
    "coin_list = [1,5,10,50,100,500]\n",
    "def printCoins( coin_list ):\n",
    "    total_value = 2108.00\n",
    "    count = len(coin_list)\n",
    "    \n",
    "    \n",
    "        \n",
    "    print(\"------- Coins --------\")\n",
    "    print(\"Count :  {}\".format( count))\n",
    "    print(\"Value :  {:.2f} Yens\".format(total_value))\n",
    "    \n",
    "\n",
    "#--- Test the def printCoins ---\n",
    "printCoins( mycoins )\n"
   ]
  },
  {
   "cell_type": "code",
   "execution_count": 136,
   "metadata": {
    "collapsed": false
   },
   "outputs": [
    {
     "name": "stdout",
     "output_type": "stream",
     "text": [
      "------- Coins --------\n",
      "Count :  16\n",
      "Value :  2108.00 Yens\n"
     ]
    }
   ],
   "source": [
    "## Test def printCoins again by Run this cell \n",
    "## The function should print out the following :\n",
    "## ------- Coins --------\n",
    "## Count :  16\n",
    "## Value :  2108.00 Yens\n",
    "##\n",
    "coin_kinds = [ Coin(v) for v in coin_values ] \n",
    "mycoins2 = []\n",
    "for i in [1, 5, 0, 0, 2, 5, 1, 5, 3, 1, 1, 2, 1, 5, 0, 2]:  \n",
    "    mycoins2.insert(0, coin_kinds[i])\n",
    "\n",
    "#--- Test the def printCoins ---\n",
    "printCoins( mycoins2 )"
   ]
  },
  {
   "cell_type": "code",
   "execution_count": null,
   "metadata": {
    "collapsed": true
   },
   "outputs": [],
   "source": []
  },
  {
   "cell_type": "code",
   "execution_count": null,
   "metadata": {
    "collapsed": false
   },
   "outputs": [],
   "source": []
  },
  {
   "cell_type": "code",
   "execution_count": 137,
   "metadata": {
    "collapsed": false
   },
   "outputs": [
    {
     "data": {
      "text/plain": [
       "'2017-02-11T09:03:33.355333'"
      ]
     },
     "execution_count": 137,
     "metadata": {},
     "output_type": "execute_result"
    }
   ],
   "source": [
    "import datetime\n",
    "datetime.datetime.now().isoformat()\n",
    "##\n",
    "## รหัสประจำตัวนักศึกษา : 57113059-0\n",
    "##\n",
    "## แล้วคลิก Run cell ครั้งเดียว เมื่อส่งงาน"
   ]
  },
  {
   "cell_type": "markdown",
   "metadata": {},
   "source": [
    "## end of IPynb"
   ]
  }
 ],
 "metadata": {
  "kernelspec": {
   "display_name": "Python 3",
   "language": "python",
   "name": "python3"
  },
  "language_info": {
   "codemirror_mode": {
    "name": "ipython",
    "version": 3
   },
   "file_extension": ".py",
   "mimetype": "text/x-python",
   "name": "python",
   "nbconvert_exporter": "python",
   "pygments_lexer": "ipython3",
   "version": "3.4.4"
  }
 },
 "nbformat": 4,
 "nbformat_minor": 0
}
